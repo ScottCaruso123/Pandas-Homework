{
 "cells": [
  {
   "cell_type": "code",
   "execution_count": 194,
   "metadata": {},
   "outputs": [],
   "source": [
    "import pandas as pd \n",
    "import numpy as np\n",
    "\n",
    "file_to_load = 'Resources/purchase_data_pymoli.csv'\n",
    "p_df = pd.read_csv(file_to_load)\n",
    "\n",
    "clean_p_df = p_df.dropna(how='any')"
   ]
  },
  {
   "cell_type": "code",
   "execution_count": 195,
   "metadata": {},
   "outputs": [
    {
     "data": {
      "text/html": [
       "<div>\n",
       "<style scoped>\n",
       "    .dataframe tbody tr th:only-of-type {\n",
       "        vertical-align: middle;\n",
       "    }\n",
       "\n",
       "    .dataframe tbody tr th {\n",
       "        vertical-align: top;\n",
       "    }\n",
       "\n",
       "    .dataframe thead th {\n",
       "        text-align: right;\n",
       "    }\n",
       "</style>\n",
       "<table border=\"1\" class=\"dataframe\">\n",
       "  <thead>\n",
       "    <tr style=\"text-align: right;\">\n",
       "      <th></th>\n",
       "      <th>Total Players</th>\n",
       "    </tr>\n",
       "  </thead>\n",
       "  <tbody>\n",
       "    <tr>\n",
       "      <th>0</th>\n",
       "      <td>780</td>\n",
       "    </tr>\n",
       "  </tbody>\n",
       "</table>\n",
       "</div>"
      ],
      "text/plain": [
       "   Total Players\n",
       "0            780"
      ]
     },
     "execution_count": 195,
     "metadata": {},
     "output_type": "execute_result"
    }
   ],
   "source": [
    "t_players_df = len(p_df)\n",
    "frame_df = pd.DataFrame([t_players_df],columns=['Total Players'])\n",
    "frame_df"
   ]
  },
  {
   "cell_type": "code",
   "execution_count": null,
   "metadata": {},
   "outputs": [],
   "source": []
  },
  {
   "cell_type": "code",
   "execution_count": 196,
   "metadata": {},
   "outputs": [
    {
     "data": {
      "text/plain": [
       "576"
      ]
     },
     "execution_count": 196,
     "metadata": {},
     "output_type": "execute_result"
    }
   ],
   "source": [
    "players = p_df[['SN','Gender']]\n",
    "players2 = players.drop_duplicates()\n",
    "total_players = players2['Gender'].count()\n",
    "total_players"
   ]
  },
  {
   "cell_type": "code",
   "execution_count": 197,
   "metadata": {},
   "outputs": [
    {
     "data": {
      "text/html": [
       "<div>\n",
       "<style scoped>\n",
       "    .dataframe tbody tr th:only-of-type {\n",
       "        vertical-align: middle;\n",
       "    }\n",
       "\n",
       "    .dataframe tbody tr th {\n",
       "        vertical-align: top;\n",
       "    }\n",
       "\n",
       "    .dataframe thead th {\n",
       "        text-align: right;\n",
       "    }\n",
       "</style>\n",
       "<table border=\"1\" class=\"dataframe\">\n",
       "  <thead>\n",
       "    <tr style=\"text-align: right;\">\n",
       "      <th></th>\n",
       "      <th>Number of Unique Items</th>\n",
       "      <th>Average Price</th>\n",
       "      <th>Number of Purchases</th>\n",
       "      <th>Total Revenue</th>\n",
       "    </tr>\n",
       "  </thead>\n",
       "  <tbody>\n",
       "    <tr>\n",
       "      <th>0</th>\n",
       "      <td>179</td>\n",
       "      <td>3.05</td>\n",
       "      <td>780</td>\n",
       "      <td>2379.77</td>\n",
       "    </tr>\n",
       "  </tbody>\n",
       "</table>\n",
       "</div>"
      ],
      "text/plain": [
       "   Number of Unique Items  Average Price  Number of Purchases  Total Revenue\n",
       "0                     179           3.05                  780        2379.77"
      ]
     },
     "execution_count": 197,
     "metadata": {},
     "output_type": "execute_result"
    }
   ],
   "source": [
    "avg_price = p_df['Price'].mean()\n",
    "num_purchase = t_players_df\n",
    "total_rev = p_df['Price'].sum()\n",
    "u_count = len(p_df['Item Name'].unique())\n",
    "\n",
    "sum_df = pd.DataFrame({'Number of Unique Items':u_count,\n",
    "                       'Average Price': round(avg_price,2),\n",
    "                       'Number of Purchases':  num_purchase,\n",
    "                       'Total Revenue': total_rev},index=[0])\n",
    "sum_df"
   ]
  },
  {
   "cell_type": "code",
   "execution_count": 198,
   "metadata": {},
   "outputs": [
    {
     "data": {
      "text/html": [
       "<style  type=\"text/css\" >\n",
       "</style>  \n",
       "<table id=\"T_9b996540_bc97_11e8_99bf_720008c908b0\" > \n",
       "<thead>    <tr> \n",
       "        <th class=\"blank level0\" ></th> \n",
       "        <th class=\"col_heading level0 col0\" >Total Counts</th> \n",
       "        <th class=\"col_heading level0 col1\" >Percentage of Players</th> \n",
       "    </tr></thead> \n",
       "<tbody>    <tr> \n",
       "        <th id=\"T_9b996540_bc97_11e8_99bf_720008c908b0level0_row0\" class=\"row_heading level0 row0\" >Male</th> \n",
       "        <td id=\"T_9b996540_bc97_11e8_99bf_720008c908b0row0_col0\" class=\"data row0 col0\" >484</td> \n",
       "        <td id=\"T_9b996540_bc97_11e8_99bf_720008c908b0row0_col1\" class=\"data row0 col1\" >84.03%</td> \n",
       "    </tr>    <tr> \n",
       "        <th id=\"T_9b996540_bc97_11e8_99bf_720008c908b0level0_row1\" class=\"row_heading level0 row1\" >Female</th> \n",
       "        <td id=\"T_9b996540_bc97_11e8_99bf_720008c908b0row1_col0\" class=\"data row1 col0\" >81</td> \n",
       "        <td id=\"T_9b996540_bc97_11e8_99bf_720008c908b0row1_col1\" class=\"data row1 col1\" >14.06%</td> \n",
       "    </tr>    <tr> \n",
       "        <th id=\"T_9b996540_bc97_11e8_99bf_720008c908b0level0_row2\" class=\"row_heading level0 row2\" >Other/Non-Disclosed</th> \n",
       "        <td id=\"T_9b996540_bc97_11e8_99bf_720008c908b0row2_col0\" class=\"data row2 col0\" >11</td> \n",
       "        <td id=\"T_9b996540_bc97_11e8_99bf_720008c908b0row2_col1\" class=\"data row2 col1\" >1.91%</td> \n",
       "    </tr></tbody> \n",
       "</table> "
      ],
      "text/plain": [
       "<pandas.io.formats.style.Styler at 0x112dbf2e8>"
      ]
     },
     "execution_count": 198,
     "metadata": {},
     "output_type": "execute_result"
    }
   ],
   "source": [
    "gender_data = p_df[['SN','Gender']]\n",
    "gender_data = gender_data.drop_duplicates()\n",
    "gender_counts = gender_data['Gender'].value_counts()\n",
    "\n",
    "gender_counts_by_value=[gender_counts[0],gender_counts[1],gender_counts[2]]\n",
    "gender_percent=[round(gender_counts[0]/total_players *100,2),\n",
    "                round(gender_counts[1]/total_players *100,2),\n",
    "                round(gender_counts[2]/total_players *100,2)]\n",
    "gender_demographics = pd.DataFrame({'Total Counts':gender_counts_by_value,\n",
    "                                    'Percentage of Players':gender_percent})\n",
    "\n",
    "gender_demographics.index=(['Male','Female','Other/Non-Disclosed'])\n",
    "gender_demographics.style.format({'Percentage of Players':'{:.2f}%'})\n"
   ]
  },
  {
   "cell_type": "code",
   "execution_count": 199,
   "metadata": {},
   "outputs": [
    {
     "data": {
      "text/plain": [
       "[652, 113, 15]"
      ]
     },
     "execution_count": 199,
     "metadata": {},
     "output_type": "execute_result"
    }
   ],
   "source": [
    "purchase_count = p_df['Gender'].value_counts()\n",
    "purchase_count_by_value= [purchase_count[0],purchase_count[1],purchase_count[2]]\n",
    "\n",
    "purchase_count_by_value"
   ]
  },
  {
   "cell_type": "code",
   "execution_count": 200,
   "metadata": {},
   "outputs": [
    {
     "data": {
      "text/plain": [
       "[3.02, 3.2, 3.35]"
      ]
     },
     "execution_count": 200,
     "metadata": {},
     "output_type": "execute_result"
    }
   ],
   "source": [
    "\n",
    "female_p=p_df.loc[(p_df['Gender']=='Female')]\n",
    "male_p = p_df.loc[(p_df['Gender']=='Male')]\n",
    "other_p = p_df.loc[(p_df['Gender']=='Other / Non-Disclosed')]\n",
    "male_avg_purchase = round(male_p['Price'].mean(),2)\n",
    "female_avg_purchase = round(female_p['Price'].mean(),2)\n",
    "other_avg_purchase = round(other_p['Price'].mean(),2)\n",
    "avg_purchase = [male_avg_purchase,female_avg_purchase,other_avg_purchase]\n",
    "avg_purchase"
   ]
  },
  {
   "cell_type": "code",
   "execution_count": 201,
   "metadata": {},
   "outputs": [
    {
     "data": {
      "text/plain": [
       "[361.94, 1967.64, 50.19]"
      ]
     },
     "execution_count": 201,
     "metadata": {},
     "output_type": "execute_result"
    }
   ],
   "source": [
    "female_total = p_df.loc[(p_df['Gender']=='Female')]\n",
    "male_total = p_df.loc[(p_df['Gender']=='Male')]\n",
    "other_total = p_df.loc[(p_df['Gender']=='Other / Non-Disclosed')]\n",
    "female_total_price = round(female_total['Price'].sum(),2)\n",
    "male_total_price = male_total['Price'].sum()\n",
    "other_total_price = other_total['Price'].sum()\n",
    "total_purchase =[female_total_price,male_total_price,other_total_price]\n",
    "total_purchase"
   ]
  },
  {
   "cell_type": "code",
   "execution_count": 202,
   "metadata": {},
   "outputs": [
    {
     "data": {
      "text/plain": [
       "[4.07, 4.47, 4.56]"
      ]
     },
     "execution_count": 202,
     "metadata": {},
     "output_type": "execute_result"
    }
   ],
   "source": [
    "total = p_df['Price'].sum()\n",
    "\n",
    "\n",
    "male_avg_purchase = round(male_total_price/gender_counts[0],2)\n",
    "female_avg_purchase = round(female_total_price/gender_counts[1],2)\n",
    "other_avg_purchase = round(other_total_price/gender_counts[2],2)\n",
    "avg_total_pur_per=[male_avg_purchase,female_avg_purchase,other_avg_purchase]\n",
    "avg_total_pur_per"
   ]
  },
  {
   "cell_type": "code",
   "execution_count": 203,
   "metadata": {},
   "outputs": [],
   "source": [
    "purchasing_analysis= pd.DataFrame({'Purchase Count':purchase_count_by_value,\n",
    "                                   'Average Purchase Price':avg_purchase,\n",
    "                                   'Total Purchase Value':total_purchase,\n",
    "                                  'Avg Total Purchase per Person':avg_total_pur_per})\n"
   ]
  },
  {
   "cell_type": "code",
   "execution_count": 204,
   "metadata": {},
   "outputs": [
    {
     "data": {
      "text/html": [
       "<style  type=\"text/css\" >\n",
       "</style>  \n",
       "<table id=\"T_9c28e1fa_bc97_11e8_909a_720008c908b0\" > \n",
       "<thead>    <tr> \n",
       "        <th class=\"blank level0\" ></th> \n",
       "        <th class=\"col_heading level0 col0\" >Purchase Count</th> \n",
       "        <th class=\"col_heading level0 col1\" >Average Purchase Price</th> \n",
       "        <th class=\"col_heading level0 col2\" >Total Purchase Value</th> \n",
       "        <th class=\"col_heading level0 col3\" >Avg Total Purchase per Person</th> \n",
       "    </tr></thead> \n",
       "<tbody>    <tr> \n",
       "        <th id=\"T_9c28e1fa_bc97_11e8_909a_720008c908b0level0_row0\" class=\"row_heading level0 row0\" >Male</th> \n",
       "        <td id=\"T_9c28e1fa_bc97_11e8_909a_720008c908b0row0_col0\" class=\"data row0 col0\" >652</td> \n",
       "        <td id=\"T_9c28e1fa_bc97_11e8_909a_720008c908b0row0_col1\" class=\"data row0 col1\" >$3.02</td> \n",
       "        <td id=\"T_9c28e1fa_bc97_11e8_909a_720008c908b0row0_col2\" class=\"data row0 col2\" >$361.94</td> \n",
       "        <td id=\"T_9c28e1fa_bc97_11e8_909a_720008c908b0row0_col3\" class=\"data row0 col3\" >$4.07</td> \n",
       "    </tr>    <tr> \n",
       "        <th id=\"T_9c28e1fa_bc97_11e8_909a_720008c908b0level0_row1\" class=\"row_heading level0 row1\" >Female</th> \n",
       "        <td id=\"T_9c28e1fa_bc97_11e8_909a_720008c908b0row1_col0\" class=\"data row1 col0\" >113</td> \n",
       "        <td id=\"T_9c28e1fa_bc97_11e8_909a_720008c908b0row1_col1\" class=\"data row1 col1\" >$3.20</td> \n",
       "        <td id=\"T_9c28e1fa_bc97_11e8_909a_720008c908b0row1_col2\" class=\"data row1 col2\" >$1967.64</td> \n",
       "        <td id=\"T_9c28e1fa_bc97_11e8_909a_720008c908b0row1_col3\" class=\"data row1 col3\" >$4.47</td> \n",
       "    </tr>    <tr> \n",
       "        <th id=\"T_9c28e1fa_bc97_11e8_909a_720008c908b0level0_row2\" class=\"row_heading level0 row2\" >Other / Non_disclosed</th> \n",
       "        <td id=\"T_9c28e1fa_bc97_11e8_909a_720008c908b0row2_col0\" class=\"data row2 col0\" >15</td> \n",
       "        <td id=\"T_9c28e1fa_bc97_11e8_909a_720008c908b0row2_col1\" class=\"data row2 col1\" >$3.35</td> \n",
       "        <td id=\"T_9c28e1fa_bc97_11e8_909a_720008c908b0row2_col2\" class=\"data row2 col2\" >$50.19</td> \n",
       "        <td id=\"T_9c28e1fa_bc97_11e8_909a_720008c908b0row2_col3\" class=\"data row2 col3\" >$4.56</td> \n",
       "    </tr></tbody> \n",
       "</table> "
      ],
      "text/plain": [
       "<pandas.io.formats.style.Styler at 0x112eb08d0>"
      ]
     },
     "execution_count": 204,
     "metadata": {},
     "output_type": "execute_result"
    }
   ],
   "source": [
    "purchasing_analysis.index=(['Male','Female','Other / Non_disclosed'])\n",
    "purchasing_analysis.style.format({'Average Purchase Price':'${:.2f}',\n",
    "                                  'Total Purchase Value':'${:.2f}',\n",
    "                                 'Avg Total Purchase per Person':'${:.2f}'})\n"
   ]
  },
  {
   "cell_type": "code",
   "execution_count": 205,
   "metadata": {},
   "outputs": [],
   "source": [
    "#Cant have over lap in bins\n",
    "bins =[0,10,15,20,25,30,35,39,40]\n"
   ]
  },
  {
   "cell_type": "code",
   "execution_count": 206,
   "metadata": {},
   "outputs": [],
   "source": [
    "group_names=['<10','10-14','15-19','20-24','25-29','30-34','35-39','40+']\n",
    "one = p_df[['Age','Gender']]\n",
    "two = one.drop_duplicates()\n",
    "three = two['Gender'].count()\n"
   ]
  },
  {
   "cell_type": "code",
   "execution_count": 207,
   "metadata": {},
   "outputs": [
    {
     "data": {
      "text/plain": [
       "0    15-19\n",
       "1      40+\n",
       "2    20-24\n",
       "3    20-24\n",
       "4    20-24\n",
       "Name: Age, dtype: category\n",
       "Categories (8, object): [<10 < 10-14 < 15-19 < 20-24 < 25-29 < 30-34 < 35-39 < 40+]"
      ]
     },
     "execution_count": 207,
     "metadata": {},
     "output_type": "execute_result"
    }
   ],
   "source": [
    "pd.cut(p_df['Age'],bins, labels=group_names).head()"
   ]
  },
  {
   "cell_type": "code",
   "execution_count": 208,
   "metadata": {},
   "outputs": [
    {
     "data": {
      "text/plain": [
       "20    99\n",
       "22    70\n",
       "24    67\n",
       "23    67\n",
       "21    62\n",
       "Name: Age, dtype: int64"
      ]
     },
     "execution_count": 208,
     "metadata": {},
     "output_type": "execute_result"
    }
   ],
   "source": [
    "time = p_df['Age'].value_counts()\n",
    "p_df['Age Group']=pd.cut(p_df['Age'],bins,labels=group_names)\n",
    "time.head()"
   ]
  },
  {
   "cell_type": "code",
   "execution_count": 209,
   "metadata": {},
   "outputs": [
    {
     "data": {
      "text/plain": [
       "[32, 54, 200, 325, 77, 52, 27, 6]"
      ]
     },
     "execution_count": 209,
     "metadata": {},
     "output_type": "execute_result"
    }
   ],
   "source": [
    "\n",
    "age_group = p_df.groupby(['Age Group'])\n",
    "old_age = age_group['Age'].count()\n",
    "quant_age =[old_age[0],old_age[1],old_age[2], old_age[3], old_age[4],old_age[5],old_age[6],old_age[7]]\n",
    "quant_age"
   ]
  },
  {
   "cell_type": "code",
   "execution_count": 210,
   "metadata": {},
   "outputs": [
    {
     "data": {
      "text/plain": [
       "[5.56, 9.38, 34.72, 56.42, 13.37, 9.03, 4.69, 1.04]"
      ]
     },
     "execution_count": 210,
     "metadata": {},
     "output_type": "execute_result"
    }
   ],
   "source": [
    "percent_of_players = [round(old_age[0]/total_players * 100,2),\n",
    "                      round(old_age[1]/total_players * 100,2),\n",
    "                      round(old_age[2]/total_players* 100,2),\n",
    "                      round(old_age[3]/total_players* 100,2),\n",
    "                      round(old_age[4]/total_players* 100,2),\n",
    "                      round(old_age[5]/total_players* 100,2),\n",
    "                      round(old_age[6]/total_players * 100,2),\n",
    "                      round(old_age[7]/total_players * 100,2)]\n",
    "percent_of_players\n"
   ]
  },
  {
   "cell_type": "code",
   "execution_count": 211,
   "metadata": {},
   "outputs": [
    {
     "data": {
      "text/plain": [
       "134.21"
      ]
     },
     "execution_count": 211,
     "metadata": {},
     "output_type": "execute_result"
    }
   ],
   "source": [
    " age_demo = pd.DataFrame({'Total Count':quant_age,'Percentage of Players':percent_of_players})\n",
    "age_demo.index=(['<10','10-14','15-19','20-24','24-29','30-34','35-39','40+'])\n",
    "age_demo.style.format({'Percentage of Players':'{:.2f}%'})\n",
    "age_demo['Percentage of Players'].sum()"
   ]
  },
  {
   "cell_type": "code",
   "execution_count": 212,
   "metadata": {},
   "outputs": [],
   "source": [
    "bins =[0,9,14,19,24,29,34,39,100]"
   ]
  },
  {
   "cell_type": "code",
   "execution_count": 213,
   "metadata": {},
   "outputs": [],
   "source": [
    "age_labels = ['<10','10-14','15-19','20-24','25-29','30-34','35-39','40+']"
   ]
  },
  {
   "cell_type": "code",
   "execution_count": 214,
   "metadata": {},
   "outputs": [
    {
     "data": {
      "text/plain": [
       "0    20-24\n",
       "1      40+\n",
       "2    20-24\n",
       "3    20-24\n",
       "4    20-24\n",
       "Name: Age, dtype: category\n",
       "Categories (8, object): [<10 < 10-14 < 15-19 < 20-24 < 25-29 < 30-34 < 35-39 < 40+]"
      ]
     },
     "execution_count": 214,
     "metadata": {},
     "output_type": "execute_result"
    }
   ],
   "source": [
    "pd.cut(p_df['Age'],bins,labels=age_labels).head()"
   ]
  },
  {
   "cell_type": "code",
   "execution_count": 215,
   "metadata": {},
   "outputs": [
    {
     "data": {
      "text/html": [
       "<div>\n",
       "<style scoped>\n",
       "    .dataframe tbody tr th:only-of-type {\n",
       "        vertical-align: middle;\n",
       "    }\n",
       "\n",
       "    .dataframe tbody tr th {\n",
       "        vertical-align: top;\n",
       "    }\n",
       "\n",
       "    .dataframe thead th {\n",
       "        text-align: right;\n",
       "    }\n",
       "</style>\n",
       "<table border=\"1\" class=\"dataframe\">\n",
       "  <thead>\n",
       "    <tr style=\"text-align: right;\">\n",
       "      <th></th>\n",
       "      <th>Purchase ID</th>\n",
       "      <th>SN</th>\n",
       "      <th>Age</th>\n",
       "      <th>Gender</th>\n",
       "      <th>Item ID</th>\n",
       "      <th>Item Name</th>\n",
       "      <th>Price</th>\n",
       "      <th>Age Group</th>\n",
       "    </tr>\n",
       "  </thead>\n",
       "  <tbody>\n",
       "    <tr>\n",
       "      <th>0</th>\n",
       "      <td>0</td>\n",
       "      <td>Lisim78</td>\n",
       "      <td>20</td>\n",
       "      <td>Male</td>\n",
       "      <td>108</td>\n",
       "      <td>Extraction, Quickblade Of Trembling Hands</td>\n",
       "      <td>3.53</td>\n",
       "      <td>15-19</td>\n",
       "    </tr>\n",
       "    <tr>\n",
       "      <th>1</th>\n",
       "      <td>1</td>\n",
       "      <td>Lisovynya38</td>\n",
       "      <td>40</td>\n",
       "      <td>Male</td>\n",
       "      <td>143</td>\n",
       "      <td>Frenzied Scimitar</td>\n",
       "      <td>1.56</td>\n",
       "      <td>40+</td>\n",
       "    </tr>\n",
       "    <tr>\n",
       "      <th>2</th>\n",
       "      <td>2</td>\n",
       "      <td>Ithergue48</td>\n",
       "      <td>24</td>\n",
       "      <td>Male</td>\n",
       "      <td>92</td>\n",
       "      <td>Final Critic</td>\n",
       "      <td>4.88</td>\n",
       "      <td>20-24</td>\n",
       "    </tr>\n",
       "    <tr>\n",
       "      <th>3</th>\n",
       "      <td>3</td>\n",
       "      <td>Chamassasya86</td>\n",
       "      <td>24</td>\n",
       "      <td>Male</td>\n",
       "      <td>100</td>\n",
       "      <td>Blindscythe</td>\n",
       "      <td>3.27</td>\n",
       "      <td>20-24</td>\n",
       "    </tr>\n",
       "    <tr>\n",
       "      <th>4</th>\n",
       "      <td>4</td>\n",
       "      <td>Iskosia90</td>\n",
       "      <td>23</td>\n",
       "      <td>Male</td>\n",
       "      <td>131</td>\n",
       "      <td>Fury</td>\n",
       "      <td>1.44</td>\n",
       "      <td>20-24</td>\n",
       "    </tr>\n",
       "    <tr>\n",
       "      <th>5</th>\n",
       "      <td>5</td>\n",
       "      <td>Yalae81</td>\n",
       "      <td>22</td>\n",
       "      <td>Male</td>\n",
       "      <td>81</td>\n",
       "      <td>Dreamkiss</td>\n",
       "      <td>3.61</td>\n",
       "      <td>20-24</td>\n",
       "    </tr>\n",
       "    <tr>\n",
       "      <th>6</th>\n",
       "      <td>6</td>\n",
       "      <td>Itheria73</td>\n",
       "      <td>36</td>\n",
       "      <td>Male</td>\n",
       "      <td>169</td>\n",
       "      <td>Interrogator, Blood Blade of the Queen</td>\n",
       "      <td>2.18</td>\n",
       "      <td>35-39</td>\n",
       "    </tr>\n",
       "    <tr>\n",
       "      <th>7</th>\n",
       "      <td>7</td>\n",
       "      <td>Iskjaskst81</td>\n",
       "      <td>20</td>\n",
       "      <td>Male</td>\n",
       "      <td>162</td>\n",
       "      <td>Abyssal Shard</td>\n",
       "      <td>2.67</td>\n",
       "      <td>15-19</td>\n",
       "    </tr>\n",
       "    <tr>\n",
       "      <th>8</th>\n",
       "      <td>8</td>\n",
       "      <td>Undjask33</td>\n",
       "      <td>22</td>\n",
       "      <td>Male</td>\n",
       "      <td>21</td>\n",
       "      <td>Souleater</td>\n",
       "      <td>1.10</td>\n",
       "      <td>20-24</td>\n",
       "    </tr>\n",
       "    <tr>\n",
       "      <th>9</th>\n",
       "      <td>9</td>\n",
       "      <td>Chanosian48</td>\n",
       "      <td>35</td>\n",
       "      <td>Other / Non-Disclosed</td>\n",
       "      <td>136</td>\n",
       "      <td>Ghastly Adamantite Protector</td>\n",
       "      <td>3.58</td>\n",
       "      <td>30-34</td>\n",
       "    </tr>\n",
       "  </tbody>\n",
       "</table>\n",
       "</div>"
      ],
      "text/plain": [
       "   Purchase ID             SN  Age                 Gender  Item ID  \\\n",
       "0            0        Lisim78   20                   Male      108   \n",
       "1            1    Lisovynya38   40                   Male      143   \n",
       "2            2     Ithergue48   24                   Male       92   \n",
       "3            3  Chamassasya86   24                   Male      100   \n",
       "4            4      Iskosia90   23                   Male      131   \n",
       "5            5        Yalae81   22                   Male       81   \n",
       "6            6      Itheria73   36                   Male      169   \n",
       "7            7    Iskjaskst81   20                   Male      162   \n",
       "8            8      Undjask33   22                   Male       21   \n",
       "9            9    Chanosian48   35  Other / Non-Disclosed      136   \n",
       "\n",
       "                                   Item Name  Price Age Group  \n",
       "0  Extraction, Quickblade Of Trembling Hands   3.53     15-19  \n",
       "1                          Frenzied Scimitar   1.56       40+  \n",
       "2                               Final Critic   4.88     20-24  \n",
       "3                                Blindscythe   3.27     20-24  \n",
       "4                                       Fury   1.44     20-24  \n",
       "5                                  Dreamkiss   3.61     20-24  \n",
       "6     Interrogator, Blood Blade of the Queen   2.18     35-39  \n",
       "7                              Abyssal Shard   2.67     15-19  \n",
       "8                                  Souleater   1.10     20-24  \n",
       "9               Ghastly Adamantite Protector   3.58     30-34  "
      ]
     },
     "execution_count": 215,
     "metadata": {},
     "output_type": "execute_result"
    }
   ],
   "source": [
    "p_df.head(10)\n"
   ]
  },
  {
   "cell_type": "code",
   "execution_count": 216,
   "metadata": {},
   "outputs": [
    {
     "data": {
      "text/plain": [
       "Age Group\n",
       "<10      3.353478\n",
       "10-14    2.956429\n",
       "15-19    3.035956\n",
       "20-24    3.052219\n",
       "25-29    2.900990\n",
       "30-34    2.931507\n",
       "35-39    3.601707\n",
       "40+      2.941538\n",
       "Name: Price, dtype: float64"
      ]
     },
     "execution_count": 216,
     "metadata": {},
     "output_type": "execute_result"
    }
   ],
   "source": [
    "p_df['Age Group'] = pd.cut(p_df['Age'], bins, labels=age_labels)\n",
    "age_groupby = p_df.groupby('Age Group')\n",
    "\n",
    "age_pur_count = age_groupby['Price'].count()\n",
    "age_purchase = age_groupby['Price'].mean()\n",
    "total_price_age = age_groupby['Price'].sum()\n",
    "average_per_person = total_price_age/age_pur_count\n",
    "age_purchase\n",
    "average_per_person\n",
    "total_price_age/age_count_cat"
   ]
  },
  {
   "cell_type": "code",
   "execution_count": 217,
   "metadata": {},
   "outputs": [],
   "source": [
    "age_count_cat = [age_pur_count[0],\n",
    "                 age_pur_count[1],\n",
    "                 age_pur_count[2],\n",
    "                 age_pur_count[3],\n",
    "                 age_pur_count[4],\n",
    "                 age_pur_count[5],\n",
    "                 age_pur_count[6],\n",
    "                 age_pur_count[7]]"
   ]
  },
  {
   "cell_type": "code",
   "execution_count": 218,
   "metadata": {},
   "outputs": [
    {
     "data": {
      "text/plain": [
       "[23, 28, 136, 365, 101, 73, 41, 13]"
      ]
     },
     "execution_count": 218,
     "metadata": {},
     "output_type": "execute_result"
    }
   ],
   "source": [
    "age_count_cat"
   ]
  },
  {
   "cell_type": "code",
   "execution_count": 219,
   "metadata": {},
   "outputs": [],
   "source": [
    "avg_pur_price = [\n",
    "round(age_purchase[0],2),\n",
    "round(age_purchase[1],2),\n",
    "round(age_purchase[2],2),\n",
    "round(age_purchase[3],2),\n",
    "round(age_purchase[4],2),\n",
    "round(age_purchase[5],2),\n",
    "round(age_purchase[6],2),\n",
    "round(age_purchase[7],2)]"
   ]
  },
  {
   "cell_type": "code",
   "execution_count": 220,
   "metadata": {},
   "outputs": [
    {
     "data": {
      "text/plain": [
       "[3.35, 2.96, 3.04, 3.05, 2.9, 2.93, 3.6, 2.94]"
      ]
     },
     "execution_count": 220,
     "metadata": {},
     "output_type": "execute_result"
    }
   ],
   "source": [
    "avg_pur_price"
   ]
  },
  {
   "cell_type": "code",
   "execution_count": 221,
   "metadata": {},
   "outputs": [],
   "source": [
    "total_purchase_value =[\n",
    "    round(total_price_age[0],2),\n",
    "    round(total_price_age[1],2),\n",
    "    round(total_price_age[2],2),\n",
    "    round(total_price_age[3],2),\n",
    "    round(total_price_age[4],2),\n",
    "    round(total_price_age[5],2),\n",
    "    round(total_price_age[6],2),\n",
    "    round(total_price_age[7],2)\n",
    "]"
   ]
  },
  {
   "cell_type": "code",
   "execution_count": 222,
   "metadata": {},
   "outputs": [
    {
     "data": {
      "text/plain": [
       "[77.13, 82.78, 412.89, 1114.06, 293.0, 214.0, 147.67, 38.24]"
      ]
     },
     "execution_count": 222,
     "metadata": {},
     "output_type": "execute_result"
    }
   ],
   "source": [
    "total_purchase_value"
   ]
  },
  {
   "cell_type": "code",
   "execution_count": 223,
   "metadata": {},
   "outputs": [
    {
     "data": {
      "text/plain": [
       "Age Group\n",
       "<10      3.353478\n",
       "10-14    2.956429\n",
       "15-19    3.035956\n",
       "20-24    3.052219\n",
       "25-29    2.900990\n",
       "30-34    2.931507\n",
       "35-39    3.601707\n",
       "40+      2.941538\n",
       "Name: Price, dtype: float64"
      ]
     },
     "execution_count": 223,
     "metadata": {},
     "output_type": "execute_result"
    }
   ],
   "source": [
    "total_price_age/age_pur_count"
   ]
  },
  {
   "cell_type": "code",
   "execution_count": 224,
   "metadata": {},
   "outputs": [
    {
     "data": {
      "text/plain": [
       "Age Group\n",
       "<10      3.353478\n",
       "10-14    2.956429\n",
       "15-19    3.035956\n",
       "20-24    3.052219\n",
       "25-29    2.900990\n",
       "30-34    2.931507\n",
       "35-39    3.601707\n",
       "40+      2.941538\n",
       "Name: Price, dtype: float64"
      ]
     },
     "execution_count": 224,
     "metadata": {},
     "output_type": "execute_result"
    }
   ],
   "source": [
    "age_purchase"
   ]
  },
  {
   "cell_type": "code",
   "execution_count": 225,
   "metadata": {},
   "outputs": [
    {
     "data": {
      "text/html": [
       "<style  type=\"text/css\" >\n",
       "</style>  \n",
       "<table id=\"T_9e09de54_bc97_11e8_90c3_720008c908b0\" > \n",
       "<thead>    <tr> \n",
       "        <th class=\"blank level0\" ></th> \n",
       "        <th class=\"col_heading level0 col0\" >Purchase Count</th> \n",
       "        <th class=\"col_heading level0 col1\" >Average Purchase Price</th> \n",
       "        <th class=\"col_heading level0 col2\" >Total Purchase Value</th> \n",
       "        <th class=\"col_heading level0 col3\" >Avg Total Purchase per Person</th> \n",
       "    </tr></thead> \n",
       "<tbody>    <tr> \n",
       "        <th id=\"T_9e09de54_bc97_11e8_90c3_720008c908b0level0_row0\" class=\"row_heading level0 row0\" ><10</th> \n",
       "        <td id=\"T_9e09de54_bc97_11e8_90c3_720008c908b0row0_col0\" class=\"data row0 col0\" >23</td> \n",
       "        <td id=\"T_9e09de54_bc97_11e8_90c3_720008c908b0row0_col1\" class=\"data row0 col1\" >$3.35</td> \n",
       "        <td id=\"T_9e09de54_bc97_11e8_90c3_720008c908b0row0_col2\" class=\"data row0 col2\" >$77.13</td> \n",
       "        <td id=\"T_9e09de54_bc97_11e8_90c3_720008c908b0row0_col3\" class=\"data row0 col3\" >$3.35</td> \n",
       "    </tr>    <tr> \n",
       "        <th id=\"T_9e09de54_bc97_11e8_90c3_720008c908b0level0_row1\" class=\"row_heading level0 row1\" >10-14</th> \n",
       "        <td id=\"T_9e09de54_bc97_11e8_90c3_720008c908b0row1_col0\" class=\"data row1 col0\" >28</td> \n",
       "        <td id=\"T_9e09de54_bc97_11e8_90c3_720008c908b0row1_col1\" class=\"data row1 col1\" >$2.96</td> \n",
       "        <td id=\"T_9e09de54_bc97_11e8_90c3_720008c908b0row1_col2\" class=\"data row1 col2\" >$82.78</td> \n",
       "        <td id=\"T_9e09de54_bc97_11e8_90c3_720008c908b0row1_col3\" class=\"data row1 col3\" >$2.96</td> \n",
       "    </tr>    <tr> \n",
       "        <th id=\"T_9e09de54_bc97_11e8_90c3_720008c908b0level0_row2\" class=\"row_heading level0 row2\" >15-19</th> \n",
       "        <td id=\"T_9e09de54_bc97_11e8_90c3_720008c908b0row2_col0\" class=\"data row2 col0\" >136</td> \n",
       "        <td id=\"T_9e09de54_bc97_11e8_90c3_720008c908b0row2_col1\" class=\"data row2 col1\" >$3.04</td> \n",
       "        <td id=\"T_9e09de54_bc97_11e8_90c3_720008c908b0row2_col2\" class=\"data row2 col2\" >$412.89</td> \n",
       "        <td id=\"T_9e09de54_bc97_11e8_90c3_720008c908b0row2_col3\" class=\"data row2 col3\" >$3.04</td> \n",
       "    </tr>    <tr> \n",
       "        <th id=\"T_9e09de54_bc97_11e8_90c3_720008c908b0level0_row3\" class=\"row_heading level0 row3\" >20-24</th> \n",
       "        <td id=\"T_9e09de54_bc97_11e8_90c3_720008c908b0row3_col0\" class=\"data row3 col0\" >365</td> \n",
       "        <td id=\"T_9e09de54_bc97_11e8_90c3_720008c908b0row3_col1\" class=\"data row3 col1\" >$3.05</td> \n",
       "        <td id=\"T_9e09de54_bc97_11e8_90c3_720008c908b0row3_col2\" class=\"data row3 col2\" >$1114.06</td> \n",
       "        <td id=\"T_9e09de54_bc97_11e8_90c3_720008c908b0row3_col3\" class=\"data row3 col3\" >$3.05</td> \n",
       "    </tr>    <tr> \n",
       "        <th id=\"T_9e09de54_bc97_11e8_90c3_720008c908b0level0_row4\" class=\"row_heading level0 row4\" >24-29</th> \n",
       "        <td id=\"T_9e09de54_bc97_11e8_90c3_720008c908b0row4_col0\" class=\"data row4 col0\" >101</td> \n",
       "        <td id=\"T_9e09de54_bc97_11e8_90c3_720008c908b0row4_col1\" class=\"data row4 col1\" >$2.90</td> \n",
       "        <td id=\"T_9e09de54_bc97_11e8_90c3_720008c908b0row4_col2\" class=\"data row4 col2\" >$293.00</td> \n",
       "        <td id=\"T_9e09de54_bc97_11e8_90c3_720008c908b0row4_col3\" class=\"data row4 col3\" >$2.90</td> \n",
       "    </tr>    <tr> \n",
       "        <th id=\"T_9e09de54_bc97_11e8_90c3_720008c908b0level0_row5\" class=\"row_heading level0 row5\" >30-34</th> \n",
       "        <td id=\"T_9e09de54_bc97_11e8_90c3_720008c908b0row5_col0\" class=\"data row5 col0\" >73</td> \n",
       "        <td id=\"T_9e09de54_bc97_11e8_90c3_720008c908b0row5_col1\" class=\"data row5 col1\" >$2.93</td> \n",
       "        <td id=\"T_9e09de54_bc97_11e8_90c3_720008c908b0row5_col2\" class=\"data row5 col2\" >$214.00</td> \n",
       "        <td id=\"T_9e09de54_bc97_11e8_90c3_720008c908b0row5_col3\" class=\"data row5 col3\" >$2.93</td> \n",
       "    </tr>    <tr> \n",
       "        <th id=\"T_9e09de54_bc97_11e8_90c3_720008c908b0level0_row6\" class=\"row_heading level0 row6\" >35-39</th> \n",
       "        <td id=\"T_9e09de54_bc97_11e8_90c3_720008c908b0row6_col0\" class=\"data row6 col0\" >41</td> \n",
       "        <td id=\"T_9e09de54_bc97_11e8_90c3_720008c908b0row6_col1\" class=\"data row6 col1\" >$3.60</td> \n",
       "        <td id=\"T_9e09de54_bc97_11e8_90c3_720008c908b0row6_col2\" class=\"data row6 col2\" >$147.67</td> \n",
       "        <td id=\"T_9e09de54_bc97_11e8_90c3_720008c908b0row6_col3\" class=\"data row6 col3\" >$3.60</td> \n",
       "    </tr>    <tr> \n",
       "        <th id=\"T_9e09de54_bc97_11e8_90c3_720008c908b0level0_row7\" class=\"row_heading level0 row7\" >40+</th> \n",
       "        <td id=\"T_9e09de54_bc97_11e8_90c3_720008c908b0row7_col0\" class=\"data row7 col0\" >13</td> \n",
       "        <td id=\"T_9e09de54_bc97_11e8_90c3_720008c908b0row7_col1\" class=\"data row7 col1\" >$2.94</td> \n",
       "        <td id=\"T_9e09de54_bc97_11e8_90c3_720008c908b0row7_col2\" class=\"data row7 col2\" >$38.24</td> \n",
       "        <td id=\"T_9e09de54_bc97_11e8_90c3_720008c908b0row7_col3\" class=\"data row7 col3\" >$2.94</td> \n",
       "    </tr></tbody> \n",
       "</table> "
      ],
      "text/plain": [
       "<pandas.io.formats.style.Styler at 0x112cca400>"
      ]
     },
     "execution_count": 225,
     "metadata": {},
     "output_type": "execute_result"
    }
   ],
   "source": [
    "purchase_analysis = pd.DataFrame({'Purchase Count':age_count_cat,\n",
    "                                  'Average Purchase Price': avg_pur_price,\n",
    "                                  'Total Purchase Value':total_purchase_value,\n",
    "                                  'Avg Total Purchase per Person':avg_pur_price\n",
    "                                 })\n",
    "purchase_analysis.index=(['<10','10-14','15-19','20-24','24-29','30-34','35-39','40+'])\n",
    "purchase_analysis.style.format({'Average Purchase Price':'${:.2f}',\n",
    "                                'Total Purchase Value':'${:.2f}',\n",
    "                                'Avg Total Purchase per Person':'${:.2f}'})"
   ]
  },
  {
   "cell_type": "code",
   "execution_count": 226,
   "metadata": {},
   "outputs": [],
   "source": [
    "j = p_df[['SN','Price']]\n"
   ]
  },
  {
   "cell_type": "code",
   "execution_count": 227,
   "metadata": {},
   "outputs": [
    {
     "data": {
      "text/plain": [
       "189    4.99\n",
       "554    4.99\n",
       "231    4.94\n",
       "110    4.94\n",
       "246    4.94\n",
       "116    4.94\n",
       "493    4.94\n",
       "312    4.93\n",
       "275    4.93\n",
       "477    4.93\n",
       "290    4.93\n",
       "686    4.93\n",
       "593    4.91\n",
       "284    4.91\n",
       "577    4.91\n",
       "517    4.91\n",
       "388    4.91\n",
       "18     4.90\n",
       "202    4.90\n",
       "522    4.90\n",
       "240    4.90\n",
       "88     4.90\n",
       "247    4.90\n",
       "504    4.90\n",
       "666    4.90\n",
       "274    4.90\n",
       "158    4.89\n",
       "695    4.89\n",
       "676    4.89\n",
       "598    4.89\n",
       "       ... \n",
       "165    1.09\n",
       "618    1.09\n",
       "705    1.09\n",
       "681    1.06\n",
       "253    1.06\n",
       "260    1.03\n",
       "292    1.03\n",
       "453    1.03\n",
       "405    1.03\n",
       "654    1.02\n",
       "657    1.02\n",
       "344    1.02\n",
       "100    1.02\n",
       "579    1.02\n",
       "770    1.02\n",
       "528    1.02\n",
       "582    1.02\n",
       "702    1.02\n",
       "773    1.02\n",
       "361    1.02\n",
       "731    1.02\n",
       "239    1.02\n",
       "83     1.02\n",
       "535    1.01\n",
       "552    1.01\n",
       "371    1.01\n",
       "586    1.01\n",
       "282    1.01\n",
       "418    1.00\n",
       "63     1.00\n",
       "Name: Price, Length: 780, dtype: float64"
      ]
     },
     "execution_count": 227,
     "metadata": {},
     "output_type": "execute_result"
    }
   ],
   "source": [
    "gamertag_df = p_df.sort_values('Price')\n",
    "gamertag = gamertag_df.sort_values(['Price','SN'], ascending=False)\n",
    "gaming =gamertag['SN'].value_counts()\n",
    "new = gamertag[\"Price\"].mean()\n",
    "head = gaming.head()\n",
    "gamertag['Price']\n"
   ]
  },
  {
   "cell_type": "code",
   "execution_count": 228,
   "metadata": {},
   "outputs": [],
   "source": [
    "\n",
    "first =p_df.loc[(p_df['SN']=='Lisosia93')]\n",
    "second=p_df.loc[(p_df['SN']=='Idastidru52')]\n",
    "third=p_df.loc[(p_df['SN']=='Iral74')]\n",
    "fourth=p_df.loc[(p_df['SN']=='Chamjask73')]\n",
    "fifth=p_df.loc[(p_df['SN']=='Iskadarya95')]\n",
    "sn_names=[\n",
    "round(first['Price'].sum(),2),\n",
    "round(second['Price'].sum(),2),\n",
    "round(third['Price'].sum(),2),\n",
    "round(fourth['Price'].sum(),2),\n",
    "round(fifth['Price'].sum(),2)]"
   ]
  },
  {
   "cell_type": "code",
   "execution_count": 229,
   "metadata": {},
   "outputs": [
    {
     "data": {
      "text/plain": [
       "[18.96, 15.45, 13.62, 13.83, 13.1]"
      ]
     },
     "execution_count": 229,
     "metadata": {},
     "output_type": "execute_result"
    }
   ],
   "source": [
    "sn_names"
   ]
  },
  {
   "cell_type": "code",
   "execution_count": 230,
   "metadata": {},
   "outputs": [],
   "source": [
    "sn_total = [round(sn_names[0]/head[0],2),\n",
    "            round(sn_names[1]/head[1],2),\n",
    "            round(sn_names[2]/head[2],2),\n",
    "            round(sn_names[3]/head[3],2),\n",
    "            round(sn_names[4]/head[4],2)\n",
    "           ]"
   ]
  },
  {
   "cell_type": "code",
   "execution_count": 231,
   "metadata": {},
   "outputs": [],
   "source": [
    "top_spenders = pd.DataFrame({'Purchase Count':head,\n",
    "                            'Average Purchase Price':sn_total,\n",
    "                            'Total Purchase Value':sn_names})"
   ]
  },
  {
   "cell_type": "code",
   "execution_count": 232,
   "metadata": {},
   "outputs": [
    {
     "data": {
      "text/html": [
       "<div>\n",
       "<style scoped>\n",
       "    .dataframe tbody tr th:only-of-type {\n",
       "        vertical-align: middle;\n",
       "    }\n",
       "\n",
       "    .dataframe tbody tr th {\n",
       "        vertical-align: top;\n",
       "    }\n",
       "\n",
       "    .dataframe thead th {\n",
       "        text-align: right;\n",
       "    }\n",
       "</style>\n",
       "<table border=\"1\" class=\"dataframe\">\n",
       "  <thead>\n",
       "    <tr style=\"text-align: right;\">\n",
       "      <th></th>\n",
       "      <th>Purchase Count</th>\n",
       "      <th>Average Purchase Price</th>\n",
       "      <th>Total Purchase Value</th>\n",
       "    </tr>\n",
       "  </thead>\n",
       "  <tbody>\n",
       "    <tr>\n",
       "      <th>Lisosia93</th>\n",
       "      <td>5</td>\n",
       "      <td>3.79</td>\n",
       "      <td>18.96</td>\n",
       "    </tr>\n",
       "    <tr>\n",
       "      <th>Idastidru52</th>\n",
       "      <td>4</td>\n",
       "      <td>3.86</td>\n",
       "      <td>15.45</td>\n",
       "    </tr>\n",
       "    <tr>\n",
       "      <th>Iral74</th>\n",
       "      <td>4</td>\n",
       "      <td>3.40</td>\n",
       "      <td>13.62</td>\n",
       "    </tr>\n",
       "    <tr>\n",
       "      <th>Lisopela58</th>\n",
       "      <td>3</td>\n",
       "      <td>4.61</td>\n",
       "      <td>13.83</td>\n",
       "    </tr>\n",
       "    <tr>\n",
       "      <th>Pheodaisun84</th>\n",
       "      <td>3</td>\n",
       "      <td>4.37</td>\n",
       "      <td>13.10</td>\n",
       "    </tr>\n",
       "  </tbody>\n",
       "</table>\n",
       "</div>"
      ],
      "text/plain": [
       "              Purchase Count  Average Purchase Price  Total Purchase Value\n",
       "Lisosia93                  5                    3.79                 18.96\n",
       "Idastidru52                4                    3.86                 15.45\n",
       "Iral74                     4                    3.40                 13.62\n",
       "Lisopela58                 3                    4.61                 13.83\n",
       "Pheodaisun84               3                    4.37                 13.10"
      ]
     },
     "execution_count": 232,
     "metadata": {},
     "output_type": "execute_result"
    }
   ],
   "source": [
    "top_spenders"
   ]
  },
  {
   "cell_type": "code",
   "execution_count": 233,
   "metadata": {},
   "outputs": [],
   "source": [
    "pop = p_df[['Item ID','Item Name','Price']]\n",
    "m_pop = pop.groupby(['Item ID','Item Name']).count()\n",
    "mm_pop = p_df['Item Name'].value_counts()\n",
    "#mm_pop.head()\n",
    "\n",
    "#nir = p_df.loc[(p_df['Item Name']=='Final Critic')]\n",
    "#nir[\"Price\"]\n",
    "#nir\n",
    "mm_pop =m_pop.sort_values(['Price'],ascending=False)\n"
   ]
  },
  {
   "cell_type": "code",
   "execution_count": 234,
   "metadata": {},
   "outputs": [],
   "source": [
    "gamertag_df = p_df.sort_values('Price')\n",
    "gamertag = gamertag_df.sort_values(['Price','SN'], ascending=False)\n",
    "name_tag=gamertag.groupby('SN')\n"
   ]
  },
  {
   "cell_type": "code",
   "execution_count": 235,
   "metadata": {},
   "outputs": [
    {
     "data": {
      "text/plain": [
       "Item ID  Item Name                                   \n",
       "0        Splinter                                        1.28\n",
       "1        Crucifer                                        3.26\n",
       "2        Verdict                                         2.48\n",
       "3        Phantomlight                                    2.49\n",
       "4        Bloodlord's Fetish                              1.70\n",
       "5        Putrid Fan                                      4.08\n",
       "6        Rusty Skull                                     3.70\n",
       "7        Thorn, Satchel of Dark Souls                    1.33\n",
       "8        Purgatory, Gem of Regret                        3.93\n",
       "9        Thorn, Conqueror of the Corrupted               2.73\n",
       "10       Sleepwalker                                     1.79\n",
       "11       Brimstone                                       3.65\n",
       "12       Dawne                                           1.02\n",
       "13       Serenity                                        1.41\n",
       "14       Possessed Core                                  2.61\n",
       "15       Soul Infused Crystal                            2.96\n",
       "16       Restored Bauble                                 3.55\n",
       "17       Lazarus, Terror of the Earth                    1.70\n",
       "18       Torchlight, Bond of Storms                      4.65\n",
       "19       Pursuit, Cudgel of Necromancy                   1.02\n",
       "20       Netherbane                                      3.27\n",
       "21       Souleater                                       1.10\n",
       "22       Amnesia                                         2.18\n",
       "23       Crucifer                                        1.99\n",
       "24       Warped Fetish                                   3.81\n",
       "25       Hero Cane                                       4.35\n",
       "26       Unholy Wand                                     1.12\n",
       "27       Riddle, Tribute of Ended Dreams                 3.30\n",
       "28       Flux, Destroyer of Due Diligence                1.06\n",
       "29       Chaos, Ender of the End                         1.98\n",
       "                                                         ... \n",
       "154      Feral Katana                                    4.40\n",
       "155      War-Forged Gold Deflector                       1.01\n",
       "156      Soul-Forged Steel Shortsword                    1.77\n",
       "157      Spada, Etcher of Hatred                         4.80\n",
       "158      Darkheart, Butcher of the Champion              2.45\n",
       "159      Oathbreaker, Spellblade of Trials               3.08\n",
       "160      Azurewrath                                      4.40\n",
       "161      Devine                                          1.76\n",
       "162      Abyssal Shard                                   2.67\n",
       "163      Thunderfury Scimitar                            3.45\n",
       "164      Exiled Doomblade                                1.63\n",
       "165      Bone Crushing Silver Skewer                     4.86\n",
       "166      Thirsty Iron Reaver                             3.07\n",
       "167      Malice, Legacy of the Queen                     3.61\n",
       "168      Sun Strike, Jaws of Twisted Visions             1.48\n",
       "169      Interrogator, Blood Blade of the Queen          2.18\n",
       "170      Shadowsteel                                     3.97\n",
       "171      Scalpel                                         1.79\n",
       "172      Blade of the Grave                              3.14\n",
       "173      Stormfury Longsword                             4.93\n",
       "174      Primitive Blade                                 3.47\n",
       "175      Woeful Adamantite Claymore                      4.48\n",
       "176      Relentless Iron Skewer                          2.84\n",
       "177      Winterthorn, Defender of Shifting Worlds        2.08\n",
       "178      Oathbreaker, Last Hope of the Breaking Storm    4.23\n",
       "179      Wolf, Promise of the Moonwalker                 4.48\n",
       "180      Stormcaller                                     3.36\n",
       "181      Reaper's Toll                                   1.66\n",
       "182      Toothpick                                       4.03\n",
       "183      Dragon's Greatsword                             1.09\n",
       "Name: Price, Length: 183, dtype: float64"
      ]
     },
     "execution_count": 235,
     "metadata": {},
     "output_type": "execute_result"
    }
   ],
   "source": [
    "mm_pop.head()\n",
    "kick = mm_pop['Price']\n",
    "kick.iloc[0]\n",
    "pop.groupby(['Item ID','Item Name']).mean()['Price']"
   ]
  },
  {
   "cell_type": "code",
   "execution_count": 236,
   "metadata": {},
   "outputs": [
    {
     "data": {
      "text/html": [
       "<div>\n",
       "<style scoped>\n",
       "    .dataframe tbody tr th:only-of-type {\n",
       "        vertical-align: middle;\n",
       "    }\n",
       "\n",
       "    .dataframe tbody tr th {\n",
       "        vertical-align: top;\n",
       "    }\n",
       "\n",
       "    .dataframe thead th {\n",
       "        text-align: right;\n",
       "    }\n",
       "</style>\n",
       "<table border=\"1\" class=\"dataframe\">\n",
       "  <thead>\n",
       "    <tr style=\"text-align: right;\">\n",
       "      <th></th>\n",
       "      <th></th>\n",
       "      <th>Purchase Count</th>\n",
       "      <th>Item Price</th>\n",
       "      <th>Total Purchase Value</th>\n",
       "    </tr>\n",
       "    <tr>\n",
       "      <th>Item ID</th>\n",
       "      <th>Item Name</th>\n",
       "      <th></th>\n",
       "      <th></th>\n",
       "      <th></th>\n",
       "    </tr>\n",
       "  </thead>\n",
       "  <tbody>\n",
       "    <tr>\n",
       "      <th>178</th>\n",
       "      <th>Oathbreaker, Last Hope of the Breaking Storm</th>\n",
       "      <td>12</td>\n",
       "      <td>4.23</td>\n",
       "      <td>50.76</td>\n",
       "    </tr>\n",
       "    <tr>\n",
       "      <th>82</th>\n",
       "      <th>Nirvana</th>\n",
       "      <td>9</td>\n",
       "      <td>4.90</td>\n",
       "      <td>44.10</td>\n",
       "    </tr>\n",
       "    <tr>\n",
       "      <th>145</th>\n",
       "      <th>Fiery Glass Crusader</th>\n",
       "      <td>9</td>\n",
       "      <td>4.58</td>\n",
       "      <td>41.22</td>\n",
       "    </tr>\n",
       "    <tr>\n",
       "      <th>108</th>\n",
       "      <th>Extraction, Quickblade Of Trembling Hands</th>\n",
       "      <td>9</td>\n",
       "      <td>3.53</td>\n",
       "      <td>31.77</td>\n",
       "    </tr>\n",
       "    <tr>\n",
       "      <th>19</th>\n",
       "      <th>Pursuit, Cudgel of Necromancy</th>\n",
       "      <td>8</td>\n",
       "      <td>1.02</td>\n",
       "      <td>8.16</td>\n",
       "    </tr>\n",
       "  </tbody>\n",
       "</table>\n",
       "</div>"
      ],
      "text/plain": [
       "                                                      Purchase Count  \\\n",
       "Item ID Item Name                                                      \n",
       "178     Oathbreaker, Last Hope of the Breaking Storm              12   \n",
       "82      Nirvana                                                    9   \n",
       "145     Fiery Glass Crusader                                       9   \n",
       "108     Extraction, Quickblade Of Trembling Hands                  9   \n",
       "19      Pursuit, Cudgel of Necromancy                              8   \n",
       "\n",
       "                                                      Item Price  \\\n",
       "Item ID Item Name                                                  \n",
       "178     Oathbreaker, Last Hope of the Breaking Storm        4.23   \n",
       "82      Nirvana                                             4.90   \n",
       "145     Fiery Glass Crusader                                4.58   \n",
       "108     Extraction, Quickblade Of Trembling Hands           3.53   \n",
       "19      Pursuit, Cudgel of Necromancy                       1.02   \n",
       "\n",
       "                                                      Total Purchase Value  \n",
       "Item ID Item Name                                                           \n",
       "178     Oathbreaker, Last Hope of the Breaking Storm                 50.76  \n",
       "82      Nirvana                                                      44.10  \n",
       "145     Fiery Glass Crusader                                         41.22  \n",
       "108     Extraction, Quickblade Of Trembling Hands                    31.77  \n",
       "19      Pursuit, Cudgel of Necromancy                                 8.16  "
      ]
     },
     "execution_count": 236,
     "metadata": {},
     "output_type": "execute_result"
    }
   ],
   "source": [
    "#item_price=[4.88,4.23,4.90,4.58,3.19]\n",
    "purchase_count=[kick.iloc[0],kick.iloc[1],kick.iloc[2],kick.iloc[3],kick.iloc[4]]\n",
    "pop_purchase=[(kick.iloc[0]*item_price[0]),\n",
    "             (kick.iloc[1]*item_price[1]),\n",
    "             (kick.iloc[2]*item_price[2]),\n",
    "             (kick.iloc[3]*item_price[3]),\n",
    "             (kick.iloc[4]*item_price[4])]\n",
    "\n",
    "#most_popular_items = pd.DataFrame({'Purchase Count':purchase_count,'Item Price':item_price,'Total Purchase Value':pop_purchase})\n",
    "#most_popular_items.index=(['Final Critic','Oathbreaker, Last Hope of the Breaking Storm','Nirvana','Fiery Glass Crusader','Persuasion'])\n",
    "#most_popular_items.style.format({'Item Price':'${:.2f}',\n",
    "                                #'Total Purchase Value':'${:.2f}'})\n",
    "#ost_popular_items\n",
    "most_popular_item = label.head()\n",
    "most_popular_item.sort_values('Total Purchase Value', ascending=False)\n"
   ]
  },
  {
   "cell_type": "code",
   "execution_count": 237,
   "metadata": {},
   "outputs": [
    {
     "data": {
      "text/html": [
       "<div>\n",
       "<style scoped>\n",
       "    .dataframe tbody tr th:only-of-type {\n",
       "        vertical-align: middle;\n",
       "    }\n",
       "\n",
       "    .dataframe tbody tr th {\n",
       "        vertical-align: top;\n",
       "    }\n",
       "\n",
       "    .dataframe thead th {\n",
       "        text-align: right;\n",
       "    }\n",
       "</style>\n",
       "<table border=\"1\" class=\"dataframe\">\n",
       "  <thead>\n",
       "    <tr style=\"text-align: right;\">\n",
       "      <th></th>\n",
       "      <th></th>\n",
       "      <th>Purchase Count</th>\n",
       "      <th>Item Price</th>\n",
       "      <th>Total Purchase Value</th>\n",
       "    </tr>\n",
       "    <tr>\n",
       "      <th>Item ID</th>\n",
       "      <th>Item Name</th>\n",
       "      <th></th>\n",
       "      <th></th>\n",
       "      <th></th>\n",
       "    </tr>\n",
       "  </thead>\n",
       "  <tbody>\n",
       "    <tr>\n",
       "      <th>178</th>\n",
       "      <th>Oathbreaker, Last Hope of the Breaking Storm</th>\n",
       "      <td>12</td>\n",
       "      <td>4.23</td>\n",
       "      <td>50.76</td>\n",
       "    </tr>\n",
       "    <tr>\n",
       "      <th>82</th>\n",
       "      <th>Nirvana</th>\n",
       "      <td>9</td>\n",
       "      <td>4.90</td>\n",
       "      <td>44.10</td>\n",
       "    </tr>\n",
       "    <tr>\n",
       "      <th>145</th>\n",
       "      <th>Fiery Glass Crusader</th>\n",
       "      <td>9</td>\n",
       "      <td>4.58</td>\n",
       "      <td>41.22</td>\n",
       "    </tr>\n",
       "    <tr>\n",
       "      <th>92</th>\n",
       "      <th>Final Critic</th>\n",
       "      <td>8</td>\n",
       "      <td>4.88</td>\n",
       "      <td>39.04</td>\n",
       "    </tr>\n",
       "    <tr>\n",
       "      <th>103</th>\n",
       "      <th>Singed Scalpel</th>\n",
       "      <td>8</td>\n",
       "      <td>4.35</td>\n",
       "      <td>34.80</td>\n",
       "    </tr>\n",
       "  </tbody>\n",
       "</table>\n",
       "</div>"
      ],
      "text/plain": [
       "                                                      Purchase Count  \\\n",
       "Item ID Item Name                                                      \n",
       "178     Oathbreaker, Last Hope of the Breaking Storm              12   \n",
       "82      Nirvana                                                    9   \n",
       "145     Fiery Glass Crusader                                       9   \n",
       "92      Final Critic                                               8   \n",
       "103     Singed Scalpel                                             8   \n",
       "\n",
       "                                                      Item Price  \\\n",
       "Item ID Item Name                                                  \n",
       "178     Oathbreaker, Last Hope of the Breaking Storm        4.23   \n",
       "82      Nirvana                                             4.90   \n",
       "145     Fiery Glass Crusader                                4.58   \n",
       "92      Final Critic                                        4.88   \n",
       "103     Singed Scalpel                                      4.35   \n",
       "\n",
       "                                                      Total Purchase Value  \n",
       "Item ID Item Name                                                           \n",
       "178     Oathbreaker, Last Hope of the Breaking Storm                 50.76  \n",
       "82      Nirvana                                                      44.10  \n",
       "145     Fiery Glass Crusader                                         41.22  \n",
       "92      Final Critic                                                 39.04  \n",
       "103     Singed Scalpel                                               34.80  "
      ]
     },
     "execution_count": 237,
     "metadata": {},
     "output_type": "execute_result"
    }
   ],
   "source": [
    "p_df\n",
    "\n",
    "#item_price=[4.88,4.23,4.90,4.58,3.19]\n",
    "purchase_count=[kick.iloc[0],kick.iloc[1],kick.iloc[2],kick.iloc[3],kick.iloc[4]]\n",
    "pop_purchase=[(kick.iloc[0]*item_price[0]),\n",
    "             (kick.iloc[1]*item_price[1]),\n",
    "             (kick.iloc[2]*item_price[2]),\n",
    "             (kick.iloc[3]*item_price[3]),\n",
    "             (kick.iloc[4]*item_price[4])]\n",
    "\n",
    "#most_popular_items = pd.DataFrame({'Purchase Count':purchase_count,'Item Price':item_price,'Total Purchase Value':pop_purchase})\n",
    "#most_popular_items.index=(['Final Critic','Oathbreaker, Last Hope of the Breaking Storm','Nirvana','Fiery Glass Crusader','Persuasion'])\n",
    "#most_popular_items.style.format({'Item Price':'${:.2f}',\n",
    "                                #'Total Purchase Value':'${:.2f}'})\n",
    "mm_pop =m_pop.sort_values(['Price'],ascending=False)\n",
    "sum_price = pop.groupby(['Item ID','Item Name']).sum()['Price']\n",
    "count_item=pop.groupby(['Item ID','Item Name']).count()['Price']\n",
    "mean = pop.groupby(['Item ID','Item Name']).mean()['Price']\n",
    "item_df = pd.DataFrame({'Purchase Count':count_item,'Item Price':mean,'Total Purchase Value':sum_price})\n",
    "label = item_df.sort_values('Purchase Count', ascending=False)\n",
    "label.sort_values('Total Purchase Value', ascending=False).head()"
   ]
  },
  {
   "cell_type": "code",
   "execution_count": null,
   "metadata": {},
   "outputs": [],
   "source": []
  },
  {
   "cell_type": "code",
   "execution_count": null,
   "metadata": {},
   "outputs": [],
   "source": []
  },
  {
   "cell_type": "code",
   "execution_count": null,
   "metadata": {},
   "outputs": [],
   "source": []
  },
  {
   "cell_type": "code",
   "execution_count": null,
   "metadata": {},
   "outputs": [],
   "source": []
  },
  {
   "cell_type": "code",
   "execution_count": null,
   "metadata": {},
   "outputs": [],
   "source": []
  },
  {
   "cell_type": "code",
   "execution_count": null,
   "metadata": {},
   "outputs": [],
   "source": []
  },
  {
   "cell_type": "code",
   "execution_count": null,
   "metadata": {},
   "outputs": [],
   "source": []
  },
  {
   "cell_type": "code",
   "execution_count": null,
   "metadata": {},
   "outputs": [],
   "source": []
  }
 ],
 "metadata": {
  "kernelspec": {
   "display_name": "Python 3",
   "language": "python",
   "name": "python3"
  },
  "language_info": {
   "codemirror_mode": {
    "name": "ipython",
    "version": 3
   },
   "file_extension": ".py",
   "mimetype": "text/x-python",
   "name": "python",
   "nbconvert_exporter": "python",
   "pygments_lexer": "ipython3",
   "version": "3.6.5"
  }
 },
 "nbformat": 4,
 "nbformat_minor": 2
}
